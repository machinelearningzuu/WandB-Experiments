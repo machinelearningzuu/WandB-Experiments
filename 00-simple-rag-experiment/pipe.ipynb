{
 "cells": [
  {
   "cell_type": "code",
   "execution_count": null,
   "metadata": {},
   "outputs": [],
   "source": [
    "!pip install --upgrade --quiet  langchain-openai pypdf sentence_transformers faiss-cpu"
   ]
  },
  {
   "cell_type": "code",
   "execution_count": null,
   "metadata": {},
   "outputs": [],
   "source": [
    "import os, yaml, wandb\n",
    "os.chdir(\"/Users/1zuu/Desktop/Desktop - Isuru’s Mac mini/ML Research/MLOps Projects/wandb practice/\")\n",
    "\n",
    "from rich.markdown import Markdown\n",
    "from langchain_openai import OpenAI\n",
    "from langchain.chains import RetrievalQA\n",
    "from langchain.vectorstores.faiss import FAISS\n",
    "from langchain.document_loaders import PyPDFLoader\n",
    "from langchain.text_splitter import RecursiveCharacterTextSplitter\n",
    "from langchain_community.embeddings import HuggingFaceBgeEmbeddings"
   ]
  },
  {
   "cell_type": "code",
   "execution_count": null,
   "metadata": {},
   "outputs": [],
   "source": [
    "with open('secrets.yaml') as f:\n",
    "    secrets = yaml.safe_load(f)\n",
    "\n",
    "os.environ[\"LANGCHAIN_WANDB_TRACING\"] = \"true\"\n",
    "os.environ[\"WANDB_API_KEY\"] = secrets[\"WANDB_API_KEY\"]\n",
    "os.environ[\"WANDB_NOTEBOOK_NAME\"] = \"00-simple-rag-experiment/pipe.ipynb\"\n",
    "os.environ[\"WANDB_PROJECT\"] = \"llmops-wandb\""
   ]
  },
  {
   "cell_type": "code",
   "execution_count": null,
   "metadata": {},
   "outputs": [],
   "source": [
    "wandb.login()"
   ]
  },
  {
   "cell_type": "code",
   "execution_count": null,
   "metadata": {},
   "outputs": [],
   "source": [
    "chat_llm = OpenAI(\n",
    "                api_key=secrets.get(\"OPENAI_API_KEY\"),\n",
    "                max_tokens=500\n",
    "                )\n",
    "\n",
    "embed_llm = HuggingFaceBgeEmbeddings(\n",
    "                                    model_name = \"BAAI/bge-small-en\", \n",
    "                                    model_kwargs = {\"device\": \"mps\"}, \n",
    "                                    encode_kwargs = {\"normalize_embeddings\": True}\n",
    "                                    )"
   ]
  },
  {
   "cell_type": "code",
   "execution_count": null,
   "metadata": {},
   "outputs": [],
   "source": [
    "loader = PyPDFLoader(\"data/00/2022-annual-report.pdf\")\n",
    "\n",
    "with wandb.init(\n",
    "                job_type=\"upload_docs\",\n",
    "                id=\"00-rag-experiment\"\n",
    "                ) as run:\n",
    "    artifact = wandb.Artifact(\n",
    "                            \"raw_doc\",\n",
    "                            type=\"dataset\"\n",
    "                            )\n",
    "    artifact.add_dir(local_path=\"data/00/\", name=\"2022-annual-report\")\n",
    "    run.log_artifact(artifact)\n",
    "\n",
    "documents = loader.load()\n",
    "text_splitter = RecursiveCharacterTextSplitter(\n",
    "                                                chunk_size=500,\n",
    "                                                chunk_overlap=50\n",
    "                                                )\n",
    "texts = text_splitter.split_documents(documents)"
   ]
  },
  {
   "cell_type": "code",
   "execution_count": null,
   "metadata": {},
   "outputs": [],
   "source": [
    "docsearch = FAISS.from_documents(\n",
    "                                texts, \n",
    "                                embed_llm\n",
    "                                )"
   ]
  },
  {
   "cell_type": "code",
   "execution_count": null,
   "metadata": {},
   "outputs": [],
   "source": [
    "qa_chain = RetrievalQA.from_chain_type(\n",
    "                                    llm=chat_llm,\n",
    "                                    chain_type=\"stuff\",\n",
    "                                    retriever=docsearch.as_retriever(),\n",
    "                                )"
   ]
  },
  {
   "cell_type": "code",
   "execution_count": null,
   "metadata": {},
   "outputs": [],
   "source": [
    "question = \"How much is Consumer Products net revenues?\""
   ]
  },
  {
   "cell_type": "code",
   "execution_count": 44,
   "metadata": {},
   "outputs": [
    {
     "data": {
      "text/html": [
       "Tracking run with wandb version 0.16.6"
      ],
      "text/plain": [
       "<IPython.core.display.HTML object>"
      ]
     },
     "metadata": {},
     "output_type": "display_data"
    },
    {
     "data": {
      "text/html": [
       "Run data is saved locally in <code>/Users/1zuu/Desktop/Desktop - Isuru’s Mac mini/ML Research/MLOps Projects/wandb practice/wandb/run-20240420_185749-00-rag-experiment</code>"
      ],
      "text/plain": [
       "<IPython.core.display.HTML object>"
      ]
     },
     "metadata": {},
     "output_type": "display_data"
    },
    {
     "data": {
      "text/html": [
       "Syncing run <strong><a href='https://wandb.ai/zuu/llmops-wandb/runs/00-rag-experiment' target=\"_blank\">00-rag-experiment</a></strong> to <a href='https://wandb.ai/zuu/llmops-wandb' target=\"_blank\">Weights & Biases</a> (<a href='https://wandb.me/run' target=\"_blank\">docs</a>)<br/>"
      ],
      "text/plain": [
       "<IPython.core.display.HTML object>"
      ]
     },
     "metadata": {},
     "output_type": "display_data"
    },
    {
     "data": {
      "text/html": [
       " View project at <a href='https://wandb.ai/zuu/llmops-wandb' target=\"_blank\">https://wandb.ai/zuu/llmops-wandb</a>"
      ],
      "text/plain": [
       "<IPython.core.display.HTML object>"
      ]
     },
     "metadata": {},
     "output_type": "display_data"
    },
    {
     "data": {
      "text/html": [
       " View run at <a href='https://wandb.ai/zuu/llmops-wandb/runs/00-rag-experiment' target=\"_blank\">https://wandb.ai/zuu/llmops-wandb/runs/00-rag-experiment</a>"
      ],
      "text/plain": [
       "<IPython.core.display.HTML object>"
      ]
     },
     "metadata": {},
     "output_type": "display_data"
    },
    {
     "data": {
      "text/html": [
       " View run <strong style=\"color:#cdcd00\">00-rag-experiment</strong> at: <a href='https://wandb.ai/zuu/llmops-wandb/runs/00-rag-experiment' target=\"_blank\">https://wandb.ai/zuu/llmops-wandb/runs/00-rag-experiment</a><br/> View project at: <a href='https://wandb.ai/zuu/llmops-wandb' target=\"_blank\">https://wandb.ai/zuu/llmops-wandb</a><br/>Synced 5 W&B file(s), 1 media file(s), 1 artifact file(s) and 0 other file(s)"
      ],
      "text/plain": [
       "<IPython.core.display.HTML object>"
      ]
     },
     "metadata": {},
     "output_type": "display_data"
    },
    {
     "data": {
      "text/html": [
       "Find logs at: <code>./wandb/run-20240420_185749-00-rag-experiment/logs</code>"
      ],
      "text/plain": [
       "<IPython.core.display.HTML object>"
      ]
     },
     "metadata": {},
     "output_type": "display_data"
    }
   ],
   "source": [
    "wandb_table = wandb.Table(columns=[\"response\", \"question\"])\n",
    "\n",
    "with wandb.init(\n",
    "                job_type=\"run_rag\",\n",
    "                id=\"00-rag-experiment\",\n",
    "                ) as run:\n",
    "        response = qa_chain.run(question)\n",
    "        wandb_table.add_data(response, question)\n",
    "        wandb.log({\"qa_table\": wandb_table})"
   ]
  },
  {
   "cell_type": "code",
   "execution_count": null,
   "metadata": {},
   "outputs": [],
   "source": []
  }
 ],
 "metadata": {
  "kernelspec": {
   "display_name": "langchain",
   "language": "python",
   "name": "python3"
  },
  "language_info": {
   "codemirror_mode": {
    "name": "ipython",
    "version": 3
   },
   "file_extension": ".py",
   "mimetype": "text/x-python",
   "name": "python",
   "nbconvert_exporter": "python",
   "pygments_lexer": "ipython3",
   "version": "3.10.13"
  }
 },
 "nbformat": 4,
 "nbformat_minor": 2
}
